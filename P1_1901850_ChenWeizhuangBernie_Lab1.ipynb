{
 "metadata": {
  "language_info": {
   "codemirror_mode": {
    "name": "ipython",
    "version": 3
   },
   "file_extension": ".py",
   "mimetype": "text/x-python",
   "name": "python",
   "nbconvert_exporter": "python",
   "pygments_lexer": "ipython3",
   "version": "3.7.6-final"
  },
  "orig_nbformat": 2,
  "kernelspec": {
   "name": "python3",
   "display_name": "Python 3",
   "language": "python"
  }
 },
 "nbformat": 4,
 "nbformat_minor": 2,
 "cells": [
  {
   "cell_type": "code",
   "execution_count": 1,
   "metadata": {},
   "outputs": [],
   "source": [
    "import sqlalchemy\n",
    "from sqlalchemy import create_engine, MetaData, Table, Column, Integer, String, update\n",
    "\n",
    "sqlalchemy.__version__\n",
    "engine = create_engine('sqlite:///CSC2008Student.db', echo=False)\n",
    "meta = MetaData()\n",
    "\n",
    "students = Table(\n",
    "    'students', meta,\n",
    "    Column('sid', Integer, primary_key=True),\n",
    "    Column('name', String),\n",
    "    Column('grade', String),\n",
    ")\n",
    "\n",
    "meta.create_all(engine)"
   ]
  },
  {
   "cell_type": "code",
   "execution_count": 2,
   "metadata": {},
   "outputs": [],
   "source": [
    "# For Q2 - show result for empty table.\n",
    "s = students.select()\n",
    "conn = engine.connect()\n",
    "result = conn.execute(s)\n",
    "for row in result:\n",
    "    print(row)"
   ]
  },
  {
   "cell_type": "code",
   "execution_count": 3,
   "metadata": {},
   "outputs": [
    {
     "output_type": "stream",
     "name": "stdout",
     "text": [
      "(1901234, 'Bran Stark', 'NA')\n"
     ]
    }
   ],
   "source": [
    "\n",
    "# For Q3 - insert and display rows after insertion.\n",
    "ins = students.insert().values(sid = '1901234', name = 'Bran Stark', grade = 'NA')\n",
    "result = conn.execute(ins)\n",
    "result = conn.execute(s)\n",
    "for row in result:\n",
    "    print(row)"
   ]
  },
  {
   "cell_type": "code",
   "execution_count": 4,
   "metadata": {},
   "outputs": [
    {
     "output_type": "stream",
     "name": "stdout",
     "text": [
      "(1901234, 'Bran Stark', 'NA')\n(1902345, 'Sansa Stark', 'NA')\n(1903456, 'Jon Snow', 'NA')\n"
     ]
    }
   ],
   "source": [
    "#Q4 - insert Sansa Stark and Jon Snow and display result\n",
    "conn.execute(students.insert(), [\n",
    "   {'sid' : '1902345' ,'name':'Sansa Stark', 'grade' : 'NA'},\n",
    "   {'sid' : '1903456' ,'name':'Jon Snow','grade' : 'NA'},\n",
    "])\n",
    "result = conn.execute(s)\n",
    "for row in result:\n",
    "    print(row)"
   ]
  },
  {
   "cell_type": "code",
   "execution_count": 5,
   "metadata": {},
   "outputs": [
    {
     "output_type": "stream",
     "name": "stdout",
     "text": [
      "(1901234, 'Bran Stark', 'NA')\n(1902345, 'Sansa Stark', 'A-')\n(1903456, 'Jon Snow', 'NA')\n"
     ]
    }
   ],
   "source": [
    "#Q5 - Update Sansa Stark grade to 'A-' and display result\n",
    "stmt = (update(students).where(students.c.name == 'Sansa Stark').values(grade='A-'))\n",
    "conn.execute(stmt)\n",
    "result = conn.execute(s)\n",
    "for row in result:\n",
    "    print(row)"
   ]
  },
  {
   "cell_type": "code",
   "execution_count": 6,
   "metadata": {},
   "outputs": [
    {
     "output_type": "stream",
     "name": "stdout",
     "text": [
      "(1901234, 'Bran Stark', 'NA')\n(1902345, 'Sansa Stark', 'A-')\n(1903456, 'Jon Snow', 'A+')\n"
     ]
    }
   ],
   "source": [
    "#Q6 - Update Jon Snow grade to 'A+' and display results\n",
    "stmt = (update(students).where(students.c.name == 'Jon Snow').values(grade='A+'))\n",
    "conn.execute(stmt)\n",
    "result = conn.execute(s)\n",
    "for row in result:\n",
    "    print(row)"
   ]
  },
  {
   "cell_type": "code",
   "execution_count": 7,
   "metadata": {},
   "outputs": [
    {
     "output_type": "stream",
     "name": "stdout",
     "text": [
      "(1902345, 'Sansa Stark', 'A-')\n(1903456, 'Jon Snow', 'A+')\n"
     ]
    }
   ],
   "source": [
    "#Q7 - delete Bran Stark and display results\n",
    "stmt = students.delete().where(students.c.name == 'Bran Stark')\n",
    "conn.execute(stmt)\n",
    "result = conn.execute(s)\n",
    "for row in result:\n",
    "    print(row)"
   ]
  },
  {
   "cell_type": "code",
   "execution_count": 8,
   "metadata": {},
   "outputs": [],
   "source": [
    "#Q8 - delete all students in and display results\n",
    "stmt = students.delete()\n",
    "conn.execute(stmt)\n",
    "result = conn.execute(s)\n",
    "for row in result:\n",
    "    print(row)"
   ]
  }
 ]
}